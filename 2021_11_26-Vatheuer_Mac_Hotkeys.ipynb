{
 "cells": [
  {
   "cell_type": "markdown",
   "id": "27883a92",
   "metadata": {},
   "source": [
    "# Mac commands"
   ]
  },
  {
   "cell_type": "markdown",
   "id": "7f8f579c",
   "metadata": {},
   "source": [
    "## Starting simple"
   ]
  },
  {
   "cell_type": "markdown",
   "id": "37394ae3",
   "metadata": {},
   "source": [
    "* **<kbd>&#8984;</kbd>** + <kbd>O</kbd> : Open\n",
    "* **<kbd>&#8984;</kbd>** + <kbd>Q</kbd> : Quit\n",
    "* **<kbd>&#8984;</kbd>** + <kbd>W</kbd> : Close current window\n",
    "* **<kbd>&#8984;</kbd>** + <kbd>P</kbd> : Print\n",
    "* **<kbd>&#8984;</kbd>** + <kbd>R</kbd> : Reload (also <kbd>F5</kbd> possible)\n",
    "\n",
    "\n",
    "if file selected:\n",
    "\n",
    "* **<kbd>Space</kbd>**: Preview\n",
    "* **<kbd>Enter</kbd>** : Rename file"
   ]
  },
  {
   "cell_type": "markdown",
   "id": "21a83a48",
   "metadata": {},
   "source": [
    "## In Mac Terminal"
   ]
  },
  {
   "cell_type": "markdown",
   "id": "461ad273",
   "metadata": {},
   "source": [
    "* **<kbd>ctrl</kbd> + <kbd>A</kbd>**: go to beginning of command\n",
    "* **<kbd>ctrl</kbd> + <kbd>E</kbd>**: got to **end** of command\n",
    "* **<kbd>ctrl</kbd> + <kbd>L</kbd>**: empty terminal output\n",
    "* **<kbd>ctrl</kbd> + <kbd>C</kbd>**: abort process\n",
    "* **<kbd>⌥</kbd> + click**: go to specific position \n",
    "* **<kbd>TAB</kbd>**: autocomplete"
   ]
  },
  {
   "cell_type": "markdown",
   "id": "55134ebc",
   "metadata": {},
   "source": [
    "## Rien ne va plus?!"
   ]
  },
  {
   "cell_type": "markdown",
   "id": "567a0ec6",
   "metadata": {},
   "source": [
    "* **<kbd>⌥</kbd> + <kbd>&#8984;</kbd> + <kbd>Esc</kbd>**: Like ctrl + alt + delete on Windows"
   ]
  },
  {
   "cell_type": "markdown",
   "id": "9cd38cd1",
   "metadata": {},
   "source": [
    "## Configure as you like"
   ]
  },
  {
   "cell_type": "markdown",
   "id": "0a1cd232",
   "metadata": {},
   "source": [
    "* System control - Keyboard"
   ]
  },
  {
   "cell_type": "markdown",
   "id": "360f7e6a",
   "metadata": {},
   "source": [
    "## References\n",
    "\n",
    "[Source](https://www.computerworld.com/article/3023544/30-keyboard-shortcuts-mac-users-need-to-know.html)"
   ]
  }
 ],
 "metadata": {
  "kernelspec": {
   "display_name": "Python 3",
   "language": "python",
   "name": "python3"
  },
  "language_info": {
   "codemirror_mode": {
    "name": "ipython",
    "version": 3
   },
   "file_extension": ".py",
   "mimetype": "text/x-python",
   "name": "python",
   "nbconvert_exporter": "python",
   "pygments_lexer": "ipython3",
   "version": "3.8.11"
  }
 },
 "nbformat": 4,
 "nbformat_minor": 5
}
